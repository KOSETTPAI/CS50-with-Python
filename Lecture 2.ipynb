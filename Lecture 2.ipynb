{
  "nbformat": 4,
  "nbformat_minor": 0,
  "metadata": {
    "colab": {
      "provenance": [],
      "authorship_tag": "ABX9TyP+vgYc9HLFokGEZi7A0ye4",
      "include_colab_link": true
    },
    "kernelspec": {
      "name": "python3",
      "display_name": "Python 3"
    },
    "language_info": {
      "name": "python"
    }
  },
  "cells": [
    {
      "cell_type": "markdown",
      "metadata": {
        "id": "view-in-github",
        "colab_type": "text"
      },
      "source": [
        "<a href=\"https://colab.research.google.com/github/KOSETTPAI/CS50-with-Python/blob/main/Lecture%202.ipynb\" target=\"_parent\"><img src=\"https://colab.research.google.com/assets/colab-badge.svg\" alt=\"Open In Colab\"/></a>"
      ]
    },
    {
      "cell_type": "markdown",
      "source": [
        "# **Cat**"
      ],
      "metadata": {
        "id": "p68w8l-dMieS"
      }
    },
    {
      "cell_type": "code",
      "execution_count": 1,
      "metadata": {
        "colab": {
          "base_uri": "https://localhost:8080/"
        },
        "id": "4PbUhP34MUJO",
        "outputId": "0c2c0e6c-fe61-46bd-d3e9-a25325e1eb3f"
      },
      "outputs": [
        {
          "output_type": "stream",
          "name": "stdout",
          "text": [
            "meow\n",
            "meow\n",
            "meow\n"
          ]
        }
      ],
      "source": [
        "# Demonstrates multiple (identical) function calls\n",
        "\n",
        "print(\"meow\")\n",
        "print(\"meow\")\n",
        "print(\"meow\")"
      ]
    },
    {
      "cell_type": "code",
      "source": [
        "# Demonstrates a while loop, counting down\n",
        "\n",
        "i = 3\n",
        "while i != 0:\n",
        "    print(\"meow\")\n",
        "    i = i - 1"
      ],
      "metadata": {
        "colab": {
          "base_uri": "https://localhost:8080/"
        },
        "id": "eLBYFZhNMl9p",
        "outputId": "fe538350-4ace-4817-86aa-d7ac29745959"
      },
      "execution_count": 2,
      "outputs": [
        {
          "output_type": "stream",
          "name": "stdout",
          "text": [
            "meow\n",
            "meow\n",
            "meow\n"
          ]
        }
      ]
    },
    {
      "cell_type": "code",
      "source": [
        "# Demonstrates a while loop, counting up from 1\n",
        "\n",
        "i = 1\n",
        "while i <= 3:\n",
        "    print(\"meow\")\n",
        "    i = i + 1"
      ],
      "metadata": {
        "colab": {
          "base_uri": "https://localhost:8080/"
        },
        "id": "PCNJTnoaMl6C",
        "outputId": "a7ab20cb-4029-48bc-b326-b557e5212f57"
      },
      "execution_count": 3,
      "outputs": [
        {
          "output_type": "stream",
          "name": "stdout",
          "text": [
            "meow\n",
            "meow\n",
            "meow\n"
          ]
        }
      ]
    },
    {
      "cell_type": "code",
      "source": [
        "# Demonstrates a while loop, counting up from 0\n",
        "\n",
        "i = 0\n",
        "while i < 3:\n",
        "    print(\"meow\")\n",
        "    i = i + 1"
      ],
      "metadata": {
        "colab": {
          "base_uri": "https://localhost:8080/"
        },
        "id": "O3m2pLiPMl2Z",
        "outputId": "6ca6629f-ce8b-4306-8752-ed762fbefd92"
      },
      "execution_count": 4,
      "outputs": [
        {
          "output_type": "stream",
          "name": "stdout",
          "text": [
            "meow\n",
            "meow\n",
            "meow\n"
          ]
        }
      ]
    },
    {
      "cell_type": "code",
      "source": [
        "# Demonstrates a for loop, using a list\n",
        "\n",
        "for i in [0, 1, 2]:\n",
        "    print(\"meow\")"
      ],
      "metadata": {
        "colab": {
          "base_uri": "https://localhost:8080/"
        },
        "id": "-2A0x5JbMlyp",
        "outputId": "9601a37e-5ad2-401f-f323-ee1f008f0023"
      },
      "execution_count": 5,
      "outputs": [
        {
          "output_type": "stream",
          "name": "stdout",
          "text": [
            "meow\n",
            "meow\n",
            "meow\n"
          ]
        }
      ]
    },
    {
      "cell_type": "code",
      "source": [
        "# Demonstrates a for loop, using range\n",
        "\n",
        "for i in range(3):\n",
        "    print(\"meow\")"
      ],
      "metadata": {
        "colab": {
          "base_uri": "https://localhost:8080/"
        },
        "id": "lD88rKboMlvB",
        "outputId": "187ad501-53f8-49f4-c218-be72f66e2860"
      },
      "execution_count": 6,
      "outputs": [
        {
          "output_type": "stream",
          "name": "stdout",
          "text": [
            "meow\n",
            "meow\n",
            "meow\n"
          ]
        }
      ]
    },
    {
      "cell_type": "code",
      "source": [
        "# Demonstrates a for loop, with _ as a variable\n",
        "\n",
        "for _ in range(3):\n",
        "    print(\"meow\")"
      ],
      "metadata": {
        "colab": {
          "base_uri": "https://localhost:8080/"
        },
        "id": "3YNadLdeMlri",
        "outputId": "4184110e-8edd-41e7-dcc7-aa43f105db78"
      },
      "execution_count": 7,
      "outputs": [
        {
          "output_type": "stream",
          "name": "stdout",
          "text": [
            "meow\n",
            "meow\n",
            "meow\n"
          ]
        }
      ]
    },
    {
      "cell_type": "code",
      "source": [
        "# Demonstrates str multiplication\n",
        "\n",
        "print(\"meow\\n\" * 3, end=\"\")"
      ],
      "metadata": {
        "colab": {
          "base_uri": "https://localhost:8080/"
        },
        "id": "xuXhzKpgMlnx",
        "outputId": "5dd8f18f-1e5f-4875-c080-bce9c3b3dade"
      },
      "execution_count": 8,
      "outputs": [
        {
          "output_type": "stream",
          "name": "stdout",
          "text": [
            "meow\n",
            "meow\n",
            "meow\n"
          ]
        }
      ]
    },
    {
      "cell_type": "code",
      "source": [
        "# Introduces continue, break\n",
        "\n",
        "while True:\n",
        "    n = int(input(\"What's n? \"))\n",
        "    if n <= 0:\n",
        "        continue\n",
        "    else:\n",
        "        break\n",
        "\n",
        "for _ in range(n):\n",
        "    print(\"meow\")"
      ],
      "metadata": {
        "colab": {
          "base_uri": "https://localhost:8080/"
        },
        "id": "ImtP6q3sMlk5",
        "outputId": "7a4d15ec-4c64-431e-c865-5a7c01c709d4"
      },
      "execution_count": 9,
      "outputs": [
        {
          "output_type": "stream",
          "name": "stdout",
          "text": [
            "What's n? 8\n",
            "meow\n",
            "meow\n",
            "meow\n",
            "meow\n",
            "meow\n",
            "meow\n",
            "meow\n",
            "meow\n"
          ]
        }
      ]
    },
    {
      "cell_type": "code",
      "source": [
        "# Removes continue\n",
        "\n",
        "while True:\n",
        "    n = int(input(\"What's n? \"))\n",
        "    if n > 0:\n",
        "        break\n",
        "\n",
        "for _ in range(n):\n",
        "    print(\"meow\")"
      ],
      "metadata": {
        "colab": {
          "base_uri": "https://localhost:8080/"
        },
        "id": "T-kzzVMkMlhZ",
        "outputId": "4146f8a1-5109-44ab-801b-575048d89780"
      },
      "execution_count": 10,
      "outputs": [
        {
          "output_type": "stream",
          "name": "stdout",
          "text": [
            "What's n? 6\n",
            "meow\n",
            "meow\n",
            "meow\n",
            "meow\n",
            "meow\n",
            "meow\n"
          ]
        }
      ]
    },
    {
      "cell_type": "code",
      "source": [
        "# Demonstrates defining functions\n",
        "\n",
        "\n",
        "def main():\n",
        "    meow(get_number())\n",
        "\n",
        "\n",
        "def get_number():\n",
        "    while True:\n",
        "        n = int(input(\"What's n? \"))\n",
        "        if n > 1:\n",
        "            return n\n",
        "\n",
        "\n",
        "def meow(n):\n",
        "    for _ in range(n):\n",
        "        print(\"meow\")\n",
        "\n",
        "\n",
        "main()"
      ],
      "metadata": {
        "colab": {
          "base_uri": "https://localhost:8080/"
        },
        "id": "ECjTDwxUMldx",
        "outputId": "4d4ab6e3-39af-4e54-d3ec-ba0d6effd497"
      },
      "execution_count": 11,
      "outputs": [
        {
          "output_type": "stream",
          "name": "stdout",
          "text": [
            "What's n? 7\n",
            "meow\n",
            "meow\n",
            "meow\n",
            "meow\n",
            "meow\n",
            "meow\n",
            "meow\n"
          ]
        }
      ]
    },
    {
      "cell_type": "markdown",
      "source": [
        "# **Hogwarts**"
      ],
      "metadata": {
        "id": "LdE7DBXOgFtg"
      }
    },
    {
      "cell_type": "code",
      "source": [
        "# Demonstrates indexing into a list\n",
        "\n",
        "students = [\"Hermione\", \"Harry\", \"Ron\"]\n",
        "\n",
        "print(students[0])\n",
        "print(students[1])\n",
        "print(students[2])"
      ],
      "metadata": {
        "colab": {
          "base_uri": "https://localhost:8080/"
        },
        "id": "EE4NkDZsMlY5",
        "outputId": "bdd6d812-4af0-4859-8325-76906b0abb11"
      },
      "execution_count": 12,
      "outputs": [
        {
          "output_type": "stream",
          "name": "stdout",
          "text": [
            "Hermione\n",
            "Harry\n",
            "Ron\n"
          ]
        }
      ]
    },
    {
      "cell_type": "code",
      "source": [
        "# Demonstrates iterating over a list\n",
        "\n",
        "students = [\"Hermione\", \"Harry\", \"Ron\"]\n",
        "\n",
        "for student in students:\n",
        "    print(student)"
      ],
      "metadata": {
        "colab": {
          "base_uri": "https://localhost:8080/"
        },
        "id": "OCjHqRpEo3ow",
        "outputId": "9e1ed3b2-e2f0-45ba-ab04-fab1b923eb15"
      },
      "execution_count": 13,
      "outputs": [
        {
          "output_type": "stream",
          "name": "stdout",
          "text": [
            "Hermione\n",
            "Harry\n",
            "Ron\n"
          ]
        }
      ]
    },
    {
      "cell_type": "code",
      "source": [
        "# Demonstrates iterating over and indexing into a list\n",
        "\n",
        "students = [\"Hermione\", \"Harry\", \"Ron\"]\n",
        "\n",
        "for i in range(len(students)):\n",
        "    print(i + 1, students[i])"
      ],
      "metadata": {
        "colab": {
          "base_uri": "https://localhost:8080/"
        },
        "id": "PYeXhgXxo3kw",
        "outputId": "36f811bf-6cbd-4691-ec7c-e25a36c9b066"
      },
      "execution_count": 14,
      "outputs": [
        {
          "output_type": "stream",
          "name": "stdout",
          "text": [
            "1 Hermione\n",
            "2 Harry\n",
            "3 Ron\n"
          ]
        }
      ]
    },
    {
      "cell_type": "code",
      "source": [
        "# Demonstrates indexing into a dict\n",
        "\n",
        "students = {\n",
        "    \"Hermione\": \"Gryffindor\",\n",
        "    \"Harry\": \"Gryffindor\",\n",
        "    \"Ron\": \"Gryffindor\",\n",
        "    \"Draco\": \"Slytherin\",\n",
        "}\n",
        "\n",
        "print(students[\"Hermione\"])\n",
        "print(students[\"Harry\"])\n",
        "print(students[\"Ron\"])\n",
        "print(students[\"Draco\"])"
      ],
      "metadata": {
        "colab": {
          "base_uri": "https://localhost:8080/"
        },
        "id": "3X8C5GwGo3gw",
        "outputId": "ed6a3910-a83e-4579-86f5-50dece712945"
      },
      "execution_count": 15,
      "outputs": [
        {
          "output_type": "stream",
          "name": "stdout",
          "text": [
            "Gryffindor\n",
            "Gryffindor\n",
            "Gryffindor\n",
            "Slytherin\n"
          ]
        }
      ]
    },
    {
      "cell_type": "code",
      "source": [
        "# Demonstrates iterating over and index into a dict\n",
        "\n",
        "students = {\n",
        "    \"Hermione\": \"Gryffindor\",\n",
        "    \"Harry\": \"Gryffindor\",\n",
        "    \"Ron\": \"Gryffindor\",\n",
        "    \"Draco\": \"Slytherin\",\n",
        "}\n",
        "\n",
        "for student in students:\n",
        "    print(student, students[student], sep=\", \")"
      ],
      "metadata": {
        "colab": {
          "base_uri": "https://localhost:8080/"
        },
        "id": "uqllvjGvo3di",
        "outputId": "acd5b614-fa79-40bf-ebef-833faa361b4c"
      },
      "execution_count": 16,
      "outputs": [
        {
          "output_type": "stream",
          "name": "stdout",
          "text": [
            "Hermione, Gryffindor\n",
            "Harry, Gryffindor\n",
            "Ron, Gryffindor\n",
            "Draco, Slytherin\n"
          ]
        }
      ]
    },
    {
      "cell_type": "code",
      "source": [
        "# Demonstrates iterating over a list of dict objects\n",
        "\n",
        "students = [\n",
        "    {\"name\": \"Hermione\", \"house\": \"Gryffindor\", \"patronus\": \"Otter\"},\n",
        "    {\"name\": \"Harry\", \"house\": \"Gryffindor\", \"patronus\": \"Stag\"},\n",
        "    {\"name\": \"Ron\", \"house\": \"Gryffindor\", \"patronus\": \"Jack Russell terrier\"},\n",
        "    {\"name\": \"Draco\", \"house\": \"Slytherin\", \"patronus\": None},\n",
        "]\n",
        "\n",
        "for student in students:\n",
        "    print(student[\"name\"], student[\"house\"], student[\"patronus\"], sep=\", \")"
      ],
      "metadata": {
        "colab": {
          "base_uri": "https://localhost:8080/"
        },
        "id": "dbKTzSAco3aw",
        "outputId": "be3f77df-009f-40aa-cb7d-67b089f0e587"
      },
      "execution_count": 17,
      "outputs": [
        {
          "output_type": "stream",
          "name": "stdout",
          "text": [
            "Hermione, Gryffindor, Otter\n",
            "Harry, Gryffindor, Stag\n",
            "Ron, Gryffindor, Jack Russell terrier\n",
            "Draco, Slytherin, None\n"
          ]
        }
      ]
    },
    {
      "cell_type": "markdown",
      "source": [
        "# **Mario**"
      ],
      "metadata": {
        "id": "ebE48YYLwnLn"
      }
    },
    {
      "cell_type": "code",
      "source": [
        "# Prints a column of bricks\n",
        "\n",
        "print(\"#\")\n",
        "print(\"#\")\n",
        "print(\"#\")"
      ],
      "metadata": {
        "colab": {
          "base_uri": "https://localhost:8080/"
        },
        "id": "HWDPLLJFo3YB",
        "outputId": "d8a3594f-8ace-4602-ffd5-d47b4e0e025c"
      },
      "execution_count": 18,
      "outputs": [
        {
          "output_type": "stream",
          "name": "stdout",
          "text": [
            "#\n",
            "#\n",
            "#\n"
          ]
        }
      ]
    },
    {
      "cell_type": "code",
      "source": [
        "# Prints column of bricks using a loop\n",
        "\n",
        "for _ in range(3):\n",
        "    print(\"#\")"
      ],
      "metadata": {
        "colab": {
          "base_uri": "https://localhost:8080/"
        },
        "id": "YXQZbYkzo3U5",
        "outputId": "a5a76dbe-9d5d-47db-fe3e-1244871ede9f"
      },
      "execution_count": 19,
      "outputs": [
        {
          "output_type": "stream",
          "name": "stdout",
          "text": [
            "#\n",
            "#\n",
            "#\n"
          ]
        }
      ]
    },
    {
      "cell_type": "code",
      "source": [
        "# Prints column of bricks using a function with a loop\n",
        "\n",
        "\n",
        "def main():\n",
        "    print_column(3)\n",
        "\n",
        "\n",
        "def print_column(height):\n",
        "    for _ in range(height):\n",
        "        print(\"#\")\n",
        "\n",
        "\n",
        "main()"
      ],
      "metadata": {
        "colab": {
          "base_uri": "https://localhost:8080/"
        },
        "id": "xTUztgjSo3SA",
        "outputId": "43b35c0c-08d1-4a72-d92c-c71913eaa7e7"
      },
      "execution_count": 20,
      "outputs": [
        {
          "output_type": "stream",
          "name": "stdout",
          "text": [
            "#\n",
            "#\n",
            "#\n"
          ]
        }
      ]
    },
    {
      "cell_type": "code",
      "source": [
        "# Prints column of bricks using a function with str multiplication\n",
        "\n",
        "\n",
        "def main():\n",
        "    print_column(3)\n",
        "\n",
        "\n",
        "def print_column(height):\n",
        "    print(\"#\\n\" * height, end=\"\")\n",
        "\n",
        "\n",
        "main()"
      ],
      "metadata": {
        "colab": {
          "base_uri": "https://localhost:8080/"
        },
        "id": "xnt7zqy6o3PA",
        "outputId": "adfd0cb9-7428-44ee-cf82-6eb23f0f413c"
      },
      "execution_count": 21,
      "outputs": [
        {
          "output_type": "stream",
          "name": "stdout",
          "text": [
            "#\n",
            "#\n",
            "#\n"
          ]
        }
      ]
    },
    {
      "cell_type": "code",
      "source": [
        "# Prints row of coins using a function with str multiplication\n",
        "\n",
        "\n",
        "def main():\n",
        "    print_row(4)\n",
        "\n",
        "\n",
        "def print_row(width):\n",
        "    print(\"?\" * width)\n",
        "\n",
        "\n",
        "main()"
      ],
      "metadata": {
        "colab": {
          "base_uri": "https://localhost:8080/"
        },
        "id": "3tsza1O4o3L4",
        "outputId": "417ce154-301c-4fca-a15e-97cf35a13521"
      },
      "execution_count": 22,
      "outputs": [
        {
          "output_type": "stream",
          "name": "stdout",
          "text": [
            "????\n"
          ]
        }
      ]
    },
    {
      "cell_type": "code",
      "source": [
        "# Prints square of bricks using a function with nested loops\n",
        "\n",
        "\n",
        "def main():\n",
        "    print_square(3)\n",
        "\n",
        "\n",
        "def print_square(size):\n",
        "    for i in range(size):\n",
        "        for j in range(size):\n",
        "            print(\"#\", end=\"\")\n",
        "        print()\n",
        "\n",
        "\n",
        "main()"
      ],
      "metadata": {
        "colab": {
          "base_uri": "https://localhost:8080/"
        },
        "id": "FZ43Ysnoo3Ig",
        "outputId": "b22b8bc9-73c1-4dcc-8d8b-3f0a9e20ba16"
      },
      "execution_count": 23,
      "outputs": [
        {
          "output_type": "stream",
          "name": "stdout",
          "text": [
            "###\n",
            "###\n",
            "###\n"
          ]
        }
      ]
    },
    {
      "cell_type": "code",
      "source": [
        "# Prints square of bricks using a function with a loop and str multiplication\n",
        "\n",
        "\n",
        "def main():\n",
        "    print_square(3)\n",
        "\n",
        "\n",
        "def print_square(size):\n",
        "    for _ in range(size):\n",
        "        print(\"#\" * size)\n",
        "\n",
        "\n",
        "main()"
      ],
      "metadata": {
        "colab": {
          "base_uri": "https://localhost:8080/"
        },
        "id": "ALPXOge7xS1v",
        "outputId": "908caf45-bc69-42a2-c080-9fbae07df28e"
      },
      "execution_count": 24,
      "outputs": [
        {
          "output_type": "stream",
          "name": "stdout",
          "text": [
            "###\n",
            "###\n",
            "###\n"
          ]
        }
      ]
    },
    {
      "cell_type": "code",
      "source": [
        "# Prints square of bricks using a function with a loop and str multiplication\n",
        "\n",
        "\n",
        "def main():\n",
        "    print_square(3)\n",
        "\n",
        "\n",
        "def print_square(size):\n",
        "    for _ in range(size):\n",
        "        print_row(size)\n",
        "\n",
        "\n",
        "def print_row(width):\n",
        "    print(\"#\" * width)\n",
        "\n",
        "\n",
        "main()"
      ],
      "metadata": {
        "colab": {
          "base_uri": "https://localhost:8080/"
        },
        "id": "vECXg3Pzo3Eo",
        "outputId": "82c2fbdc-c9b9-4dc1-e7fd-51cebe91e915"
      },
      "execution_count": 25,
      "outputs": [
        {
          "output_type": "stream",
          "name": "stdout",
          "text": [
            "###\n",
            "###\n",
            "###\n"
          ]
        }
      ]
    }
  ]
}