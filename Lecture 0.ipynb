{
  "nbformat": 4,
  "nbformat_minor": 0,
  "metadata": {
    "colab": {
      "provenance": [],
      "authorship_tag": "ABX9TyN2Kz8I3d4v/IrQUFOBsvJD",
      "include_colab_link": true
    },
    "kernelspec": {
      "name": "python3",
      "display_name": "Python 3"
    },
    "language_info": {
      "name": "python"
    }
  },
  "cells": [
    {
      "cell_type": "markdown",
      "metadata": {
        "id": "view-in-github",
        "colab_type": "text"
      },
      "source": [
        "<a href=\"https://colab.research.google.com/github/KOSETTPAI/CS50-with-Python/blob/main/Lecture%200.ipynb\" target=\"_parent\"><img src=\"https://colab.research.google.com/assets/colab-badge.svg\" alt=\"Open In Colab\"/></a>"
      ]
    },
    {
      "cell_type": "markdown",
      "source": [
        "# **Hello**"
      ],
      "metadata": {
        "id": "VOyrJk6c_3r2"
      }
    },
    {
      "cell_type": "code",
      "execution_count": 1,
      "metadata": {
        "colab": {
          "base_uri": "https://localhost:8080/"
        },
        "id": "HpRpaaqz5mys",
        "outputId": "aea8a5b8-9aa4-49a2-9ef4-91e0a8c4a9f6"
      },
      "outputs": [
        {
          "output_type": "stream",
          "name": "stdout",
          "text": [
            "hello, world\n"
          ]
        }
      ],
      "source": [
        "# Demonstrates a function with a positional argument\n",
        "\n",
        "print(\"hello, world\")"
      ]
    },
    {
      "cell_type": "code",
      "source": [
        "# Demonstrates a function with a positional argument and a return value\n",
        "\n",
        "name = input(\"What's your name? \")\n",
        "print(\"hello,\")\n",
        "print(name)"
      ],
      "metadata": {
        "colab": {
          "base_uri": "https://localhost:8080/"
        },
        "id": "yQ0EzvCG5w9-",
        "outputId": "bd4a8930-fba4-4ba5-b857-4a4492eb9bcc"
      },
      "execution_count": 2,
      "outputs": [
        {
          "output_type": "stream",
          "name": "stdout",
          "text": [
            "What's your name? Ko Sett\n",
            "hello,\n",
            "Ko Sett\n"
          ]
        }
      ]
    },
    {
      "cell_type": "code",
      "source": [
        "# Demonstrates concatenation of strings\n",
        "\n",
        "name = input(\"What's your name? \")\n",
        "print(\"hello, \" + name)"
      ],
      "metadata": {
        "colab": {
          "base_uri": "https://localhost:8080/"
        },
        "id": "BcVr5v2F5w5u",
        "outputId": "aad82d61-17a8-4ce4-f903-aaf00b28d7bc"
      },
      "execution_count": 3,
      "outputs": [
        {
          "output_type": "stream",
          "name": "stdout",
          "text": [
            "What's your name? Ko Sett\n",
            "hello, Ko Sett\n"
          ]
        }
      ]
    },
    {
      "cell_type": "code",
      "source": [
        "# Demonstrates a function with two positional arguments\n",
        "\n",
        "name = input(\"What's your name? \")\n",
        "print(\"hello,\", name)"
      ],
      "metadata": {
        "colab": {
          "base_uri": "https://localhost:8080/"
        },
        "id": "lhYjrv9d5w2e",
        "outputId": "ee1e6fe9-0a33-4369-cb61-5490835b841d"
      },
      "execution_count": 4,
      "outputs": [
        {
          "output_type": "stream",
          "name": "stdout",
          "text": [
            "What's your name? Ko Sett\n",
            "hello, Ko Sett\n"
          ]
        }
      ]
    },
    {
      "cell_type": "code",
      "source": [
        "# Demonstrates a function with a positional argument and a named argument\n",
        "\n",
        "name = input(\"What's your name? \")\n",
        "print(\"hello, \", end=\"\")\n",
        "print(name)"
      ],
      "metadata": {
        "colab": {
          "base_uri": "https://localhost:8080/"
        },
        "id": "_zLvaRTP5wze",
        "outputId": "27f4f9a3-d5eb-4ff9-de4e-03d4e0017d14"
      },
      "execution_count": 5,
      "outputs": [
        {
          "output_type": "stream",
          "name": "stdout",
          "text": [
            "What's your name? Ko Sett\n",
            "hello, Ko Sett\n"
          ]
        }
      ]
    },
    {
      "cell_type": "code",
      "source": [
        "# Demonstrates a format string\n",
        "\n",
        "name = input(\"What's your name? \")\n",
        "print(f\"hello, {name}\")"
      ],
      "metadata": {
        "colab": {
          "base_uri": "https://localhost:8080/"
        },
        "id": "LdOj_fXh5wwW",
        "outputId": "665f2601-5bac-4cad-a927-3150202f961e"
      },
      "execution_count": 6,
      "outputs": [
        {
          "output_type": "stream",
          "name": "stdout",
          "text": [
            "What's your name? Ko Sett\n",
            "hello, Ko Sett\n"
          ]
        }
      ]
    },
    {
      "cell_type": "code",
      "source": [
        "# Demonstrates str functions\n",
        "# strip() - Remove whitespace from str\n",
        "# title() - Capitalize str\n",
        "\n",
        "name = input(\"What's your name? \").strip().title()\n",
        "print(f\"hello, {name}\")"
      ],
      "metadata": {
        "colab": {
          "base_uri": "https://localhost:8080/"
        },
        "id": "qOxZN3Fr5wt3",
        "outputId": "52a2a438-385a-4595-c206-07a72ebf380a"
      },
      "execution_count": 7,
      "outputs": [
        {
          "output_type": "stream",
          "name": "stdout",
          "text": [
            "What's your name? Ko Sett\n",
            "hello, Ko Sett\n"
          ]
        }
      ]
    },
    {
      "cell_type": "code",
      "source": [
        "# Demonstrates str functions\n",
        "\n",
        "name = input(\"What's your name? \").strip().title()\n",
        "first, last = name.split(\" \")\n",
        "print(f\"hello, {first}\")"
      ],
      "metadata": {
        "colab": {
          "base_uri": "https://localhost:8080/"
        },
        "id": "TEEOya079XeV",
        "outputId": "017d7b40-a407-4f8c-d70a-3a7273fa076f"
      },
      "execution_count": 8,
      "outputs": [
        {
          "output_type": "stream",
          "name": "stdout",
          "text": [
            "What's your name? Ko Sett\n",
            "hello, Ko\n"
          ]
        }
      ]
    },
    {
      "cell_type": "code",
      "source": [
        "# Demonstrates defining a function without parameters\n",
        "\n",
        "\n",
        "def hello():\n",
        "    print(\"hello\")\n",
        "\n",
        "\n",
        "name = input(\"What's your name? \")\n",
        "hello()\n",
        "print(name)"
      ],
      "metadata": {
        "colab": {
          "base_uri": "https://localhost:8080/"
        },
        "id": "EEqY_Mb79Xbd",
        "outputId": "403b5a14-27ac-4bc4-fe7f-1f5dace15686"
      },
      "execution_count": 9,
      "outputs": [
        {
          "output_type": "stream",
          "name": "stdout",
          "text": [
            "What's your name? Ko Sett\n",
            "hello\n",
            "Ko Sett\n"
          ]
        }
      ]
    },
    {
      "cell_type": "code",
      "source": [
        "# Demonstrates defining a function with a parameter\n",
        "\n",
        "\n",
        "def hello(to):\n",
        "    print(\"hello,\", to)\n",
        "\n",
        "\n",
        "name = input(\"What's your name? \")\n",
        "hello(name)"
      ],
      "metadata": {
        "colab": {
          "base_uri": "https://localhost:8080/"
        },
        "id": "tH87-8fo_DMl",
        "outputId": "ab78b7c9-6f5f-49db-a1da-1298fc00324e"
      },
      "execution_count": 10,
      "outputs": [
        {
          "output_type": "stream",
          "name": "stdout",
          "text": [
            "What's your name? Ko Sett\n",
            "hello, Ko Sett\n"
          ]
        }
      ]
    },
    {
      "cell_type": "code",
      "source": [
        "# Demonstrates defining a function with a parameter with a default value\n",
        "\n",
        "\n",
        "def hello(to=\"world\"):\n",
        "    print(\"hello,\", to)\n",
        "\n",
        "\n",
        "hello()\n",
        "name = input(\"What's your name? \")\n",
        "hello(name)"
      ],
      "metadata": {
        "colab": {
          "base_uri": "https://localhost:8080/"
        },
        "id": "3wbkouZN_DJ1",
        "outputId": "12b987bf-f796-45cb-a8d5-a6e5cf5ff8b3"
      },
      "execution_count": 11,
      "outputs": [
        {
          "output_type": "stream",
          "name": "stdout",
          "text": [
            "hello, world\n",
            "What's your name? Ko Sett\n",
            "hello, Ko Sett\n"
          ]
        }
      ]
    },
    {
      "cell_type": "code",
      "source": [
        "# Demonstrates defining a main function\n",
        "\n",
        "\n",
        "def main():\n",
        "    name = input(\"What's your name? \")\n",
        "    hello(name)\n",
        "\n",
        "\n",
        "def hello(to=\"world\"):\n",
        "    print(\"hello,\", to)\n",
        "\n",
        "\n",
        "main()"
      ],
      "metadata": {
        "colab": {
          "base_uri": "https://localhost:8080/"
        },
        "id": "2HcoIAd__DHF",
        "outputId": "764421d3-d1ef-416a-e661-a95ebc0039ab"
      },
      "execution_count": 12,
      "outputs": [
        {
          "output_type": "stream",
          "name": "stdout",
          "text": [
            "What's your name? Ko Sett\n",
            "hello, Ko Sett\n"
          ]
        }
      ]
    },
    {
      "cell_type": "markdown",
      "source": [
        "# **Calculator**"
      ],
      "metadata": {
        "id": "O5bKdj4F_8O1"
      }
    },
    {
      "cell_type": "code",
      "source": [
        "# Demonstrates addition\n",
        "\n",
        "x = 1\n",
        "y = 2\n",
        "\n",
        "z = x + y\n",
        "\n",
        "print(z)"
      ],
      "metadata": {
        "colab": {
          "base_uri": "https://localhost:8080/"
        },
        "id": "rKYVH-GV9XYu",
        "outputId": "bb7e4745-992c-4386-de29-6be81aed745f"
      },
      "execution_count": 13,
      "outputs": [
        {
          "output_type": "stream",
          "name": "stdout",
          "text": [
            "3\n"
          ]
        }
      ]
    },
    {
      "cell_type": "code",
      "source": [
        "# Demonstrates (unintended) concatenation of strings\n",
        "\n",
        "# Prompt user for two integers\n",
        "x = input(\"What's x? \")\n",
        "y = input(\"What's y? \")\n",
        "\n",
        "# Print sum\n",
        "z = x + y\n",
        "print(z)"
      ],
      "metadata": {
        "colab": {
          "base_uri": "https://localhost:8080/"
        },
        "id": "eqsib6ilEqnE",
        "outputId": "5303b45d-6b12-40d2-81f5-f4db532bc087"
      },
      "execution_count": 14,
      "outputs": [
        {
          "output_type": "stream",
          "name": "stdout",
          "text": [
            "What's x? 8\n",
            "What's y? 9\n",
            "89\n"
          ]
        }
      ]
    },
    {
      "cell_type": "code",
      "source": [
        "# Demonstrates conversion from str to int\n",
        "\n",
        "x = input(\"What's x? \")\n",
        "y = input(\"What's y? \")\n",
        "\n",
        "z = int(x) + int(y)\n",
        "\n",
        "print(z)"
      ],
      "metadata": {
        "colab": {
          "base_uri": "https://localhost:8080/"
        },
        "id": "qwwqevzpEqkE",
        "outputId": "af11a92c-d22f-490a-a28b-c650f1e89f1e"
      },
      "execution_count": 15,
      "outputs": [
        {
          "output_type": "stream",
          "name": "stdout",
          "text": [
            "What's x? 3\n",
            "What's y? 9\n",
            "12\n"
          ]
        }
      ]
    },
    {
      "cell_type": "code",
      "source": [
        "# Demonstrates nesting of function calls\n",
        "\n",
        "x = int(input(\"What's x? \"))\n",
        "y = int(input(\"What's y? \"))\n",
        "\n",
        "z = x + y\n",
        "\n",
        "print(z)"
      ],
      "metadata": {
        "colab": {
          "base_uri": "https://localhost:8080/"
        },
        "id": "vd-9xyiAEqhU",
        "outputId": "e9d4643b-0901-465e-f6c0-c21c56aae3ba"
      },
      "execution_count": 16,
      "outputs": [
        {
          "output_type": "stream",
          "name": "stdout",
          "text": [
            "What's x? 3\n",
            "What's y? 8\n",
            "11\n"
          ]
        }
      ]
    },
    {
      "cell_type": "code",
      "source": [
        "# Demonstrates conversion of str to float\n",
        "\n",
        "x = float(input(\"What's x? \"))\n",
        "y = float(input(\"What's y? \"))\n",
        "\n",
        "z = x + y\n",
        "\n",
        "print(z)"
      ],
      "metadata": {
        "colab": {
          "base_uri": "https://localhost:8080/"
        },
        "id": "p83y0duNEqec",
        "outputId": "7c38c196-cafd-4f77-ea0c-e873eaf8ec4c"
      },
      "execution_count": 17,
      "outputs": [
        {
          "output_type": "stream",
          "name": "stdout",
          "text": [
            "What's x? 9.3\n",
            "What's y? 3.8\n",
            "13.100000000000001\n"
          ]
        }
      ]
    },
    {
      "cell_type": "code",
      "source": [
        "# Demonstrates rounding to nearest int\n",
        "\n",
        "x = float(input(\"What's x? \"))\n",
        "y = float(input(\"What's y? \"))\n",
        "\n",
        "z = round(x + y)\n",
        "\n",
        "print(z)"
      ],
      "metadata": {
        "colab": {
          "base_uri": "https://localhost:8080/"
        },
        "id": "Z6uVlF3_EqbM",
        "outputId": "88a7110a-b7eb-40bf-f3b3-e08f983d4b1c"
      },
      "execution_count": 18,
      "outputs": [
        {
          "output_type": "stream",
          "name": "stdout",
          "text": [
            "What's x? 3\n",
            "What's y? 8.4\n",
            "11\n"
          ]
        }
      ]
    },
    {
      "cell_type": "code",
      "source": [
        "# Demonstrates fewer variables\n",
        "\n",
        "x = float(input(\"What's x? \"))\n",
        "y = float(input(\"What's y? \"))\n",
        "\n",
        "print(round(x + y))"
      ],
      "metadata": {
        "colab": {
          "base_uri": "https://localhost:8080/"
        },
        "id": "xtpee4MuFTC7",
        "outputId": "7608cc5d-c4ee-4f0e-cfb9-5fcb89eb97b5"
      },
      "execution_count": 19,
      "outputs": [
        {
          "output_type": "stream",
          "name": "stdout",
          "text": [
            "What's x? 4.4\n",
            "What's y? 4.9\n",
            "9\n"
          ]
        }
      ]
    },
    {
      "cell_type": "code",
      "source": [
        "# Demonstrates formatting with commas\n",
        "\n",
        "x = float(input(\"What's x? \"))\n",
        "y = float(input(\"What's y? \"))\n",
        "\n",
        "z = round(x + y)\n",
        "\n",
        "print(f\"{z:,}\")"
      ],
      "metadata": {
        "colab": {
          "base_uri": "https://localhost:8080/"
        },
        "id": "VLM8SMKaFS87",
        "outputId": "e5512112-8d42-42ca-a178-438e355e955d"
      },
      "execution_count": 20,
      "outputs": [
        {
          "output_type": "stream",
          "name": "stdout",
          "text": [
            "What's x? 1000\n",
            "What's y? 89\n",
            "1,089\n"
          ]
        }
      ]
    },
    {
      "cell_type": "code",
      "source": [
        "# Demonstrates division\n",
        "\n",
        "x = float(input(\"What's x? \"))\n",
        "y = float(input(\"What's y? \"))\n",
        "\n",
        "z = x / y\n",
        "\n",
        "print(z)"
      ],
      "metadata": {
        "colab": {
          "base_uri": "https://localhost:8080/"
        },
        "id": "bw3VHenwFS5b",
        "outputId": "c54937e3-53a2-48da-be1e-70823d09aa47"
      },
      "execution_count": 21,
      "outputs": [
        {
          "output_type": "stream",
          "name": "stdout",
          "text": [
            "What's x? 9\n",
            "What's y? 5\n",
            "1.8\n"
          ]
        }
      ]
    },
    {
      "cell_type": "code",
      "source": [
        "# Demonstrates rounding after the decimal point\n",
        "\n",
        "x = float(input(\"What's x? \"))\n",
        "y = float(input(\"What's y? \"))\n",
        "\n",
        "z = round(x / y, 2)\n",
        "\n",
        "print(z)"
      ],
      "metadata": {
        "colab": {
          "base_uri": "https://localhost:8080/"
        },
        "id": "kIlcHqiiFS17",
        "outputId": "0d2f618a-e545-4515-a5cd-36082703159e"
      },
      "execution_count": 22,
      "outputs": [
        {
          "output_type": "stream",
          "name": "stdout",
          "text": [
            "What's x? 3\n",
            "What's y? 8.3\n",
            "0.36\n"
          ]
        }
      ]
    },
    {
      "cell_type": "code",
      "source": [
        "# Demonstrates formatting after the decimal place\n",
        "\n",
        "x = int(input(\"What's x? \"))\n",
        "y = int(input(\"What's y? \"))\n",
        "\n",
        "z = x / y\n",
        "\n",
        "print(f\"{z:.2f}\")"
      ],
      "metadata": {
        "colab": {
          "base_uri": "https://localhost:8080/"
        },
        "id": "EAcOBwxe9XV9",
        "outputId": "1b573923-30ec-4fe2-afdc-728d3c9167c8"
      },
      "execution_count": 24,
      "outputs": [
        {
          "output_type": "stream",
          "name": "stdout",
          "text": [
            "What's x? 9\n",
            "What's y? 43\n",
            "0.21\n"
          ]
        }
      ]
    },
    {
      "cell_type": "code",
      "source": [
        "# Demonstrates defining a function with a return value\n",
        "\n",
        "\n",
        "def main():\n",
        "    x = int(input(\"What's x? \"))\n",
        "    print(\"x squared is\", square(x))\n",
        "\n",
        "\n",
        "def square(n):\n",
        "    return n * n\n",
        "\n",
        "\n",
        "main()"
      ],
      "metadata": {
        "colab": {
          "base_uri": "https://localhost:8080/"
        },
        "id": "vTgysn949XSl",
        "outputId": "f6daaf26-a966-4878-da77-5c93728cb50e"
      },
      "execution_count": 25,
      "outputs": [
        {
          "output_type": "stream",
          "name": "stdout",
          "text": [
            "What's x? 4\n",
            "x squared is 16\n"
          ]
        }
      ]
    }
  ]
}