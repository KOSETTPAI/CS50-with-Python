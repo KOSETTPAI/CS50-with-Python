{
  "nbformat": 4,
  "nbformat_minor": 0,
  "metadata": {
    "colab": {
      "provenance": [],
      "authorship_tag": "ABX9TyMVh00XyZZnon5WXa5kmRvv",
      "include_colab_link": true
    },
    "kernelspec": {
      "name": "python3",
      "display_name": "Python 3"
    },
    "language_info": {
      "name": "python"
    }
  },
  "cells": [
    {
      "cell_type": "markdown",
      "metadata": {
        "id": "view-in-github",
        "colab_type": "text"
      },
      "source": [
        "<a href=\"https://colab.research.google.com/github/KOSETTPAI/CS50-with-Python/blob/main/Lecture%203.ipynb\" target=\"_parent\"><img src=\"https://colab.research.google.com/assets/colab-badge.svg\" alt=\"Open In Colab\"/></a>"
      ]
    },
    {
      "cell_type": "code",
      "execution_count": 1,
      "metadata": {
        "colab": {
          "base_uri": "https://localhost:8080/"
        },
        "id": "GqK377MC0dXw",
        "outputId": "60416d84-ad31-41a3-88bb-4da6c3d29ab4"
      },
      "outputs": [
        {
          "output_type": "stream",
          "name": "stdout",
          "text": [
            "What's x? 90\n",
            "x is 90\n"
          ]
        }
      ],
      "source": [
        "# Gets a number from the user\n",
        "\n",
        "x = int(input(\"What's x? \"))\n",
        "print(f\"x is {x}\")"
      ]
    },
    {
      "cell_type": "code",
      "source": [
        "# Catches a ValueError\n",
        "\n",
        "try:\n",
        "    x = int(input(\"What's x? \"))\n",
        "    print(f\"x is {x}\")\n",
        "except ValueError:\n",
        "    print(\"x is not an integer\")"
      ],
      "metadata": {
        "colab": {
          "base_uri": "https://localhost:8080/"
        },
        "id": "rRCdjVHt2HVO",
        "outputId": "9c7b3325-cb45-4a25-f30e-d9151ad4f227"
      },
      "execution_count": 2,
      "outputs": [
        {
          "output_type": "stream",
          "name": "stdout",
          "text": [
            "What's x? Hello\n",
            "x is not an integer\n"
          ]
        }
      ]
    },
    {
      "cell_type": "code",
      "source": [
        "# Demonstrates a NameError\n",
        "\n",
        "try:\n",
        "    x = int(input(\"What's x? \"))\n",
        "except ValueError:\n",
        "    print(\"x is not an integer\")\n",
        "\n",
        "print(f\"x is {x}\")"
      ],
      "metadata": {
        "colab": {
          "base_uri": "https://localhost:8080/"
        },
        "id": "MtH6WTaT2HOG",
        "outputId": "e14403c1-a75b-48c9-8a35-74d73cc9285c"
      },
      "execution_count": 3,
      "outputs": [
        {
          "output_type": "stream",
          "name": "stdout",
          "text": [
            "What's x? Hello\n",
            "x is not an integer\n",
            "x is 90\n"
          ]
        }
      ]
    },
    {
      "cell_type": "code",
      "source": [
        "# Demonstrates else\n",
        "\n",
        "try:\n",
        "    x = int(input(\"What's x? \"))\n",
        "except ValueError:\n",
        "    print(\"x is not an integer\")\n",
        "else:\n",
        "    print(f\"x is {x}\")"
      ],
      "metadata": {
        "colab": {
          "base_uri": "https://localhost:8080/"
        },
        "id": "jeGy9d6f2HLG",
        "outputId": "f41eb0e2-1756-4ab1-f8f5-aed16ea1159b"
      },
      "execution_count": 4,
      "outputs": [
        {
          "output_type": "stream",
          "name": "stdout",
          "text": [
            "What's x? Hello\n",
            "x is not an integer\n"
          ]
        }
      ]
    },
    {
      "cell_type": "code",
      "source": [
        "# Adds a loop\n",
        "\n",
        "while True:\n",
        "    try:\n",
        "        x = int(input(\"What's x? \"))\n",
        "    except ValueError:\n",
        "        print(\"x is not an integer\")\n",
        "    else:\n",
        "        break\n",
        "\n",
        "print(f\"x is {x}\")"
      ],
      "metadata": {
        "colab": {
          "base_uri": "https://localhost:8080/"
        },
        "id": "FAl0RxNv2HHe",
        "outputId": "cbecd0a9-0ca2-428e-ecf5-987fe6828d2c"
      },
      "execution_count": 5,
      "outputs": [
        {
          "output_type": "stream",
          "name": "stdout",
          "text": [
            "What's x? Hello\n",
            "x is not an integer\n",
            "What's x? Hi\n",
            "x is not an integer\n",
            "What's x? 50\n",
            "x is 50\n"
          ]
        }
      ]
    },
    {
      "cell_type": "code",
      "source": [
        "# Adds functions, uses break and return\n",
        "\n",
        "\n",
        "def main():\n",
        "    x = get_int()\n",
        "    print(f\"x is {x}\")\n",
        "\n",
        "\n",
        "def get_int():\n",
        "    while True:\n",
        "        try:\n",
        "            x = int(input(\"What's x? \"))\n",
        "        except ValueError:\n",
        "            print(\"x is not an integer\")\n",
        "        else:\n",
        "            break\n",
        "    return x\n",
        "\n",
        "\n",
        "main()"
      ],
      "metadata": {
        "colab": {
          "base_uri": "https://localhost:8080/"
        },
        "id": "QMvtHUGC2HBP",
        "outputId": "6cb5177a-5f9e-49a6-abba-833e5813259c"
      },
      "execution_count": 6,
      "outputs": [
        {
          "output_type": "stream",
          "name": "stdout",
          "text": [
            "What's x? Hello\n",
            "x is not an integer\n",
            "What's x? Hi\n",
            "x is not an integer\n",
            "What's x? Hi\n",
            "x is not an integer\n",
            "What's x? 90\n",
            "x is 90\n"
          ]
        }
      ]
    },
    {
      "cell_type": "code",
      "source": [
        " # Removes break\n",
        "\n",
        "\n",
        "def main():\n",
        "    x = get_int()\n",
        "    print(f\"x is {x}\")\n",
        "\n",
        "\n",
        "def get_int():\n",
        "    while True:\n",
        "        try:\n",
        "            x = int(input(\"What's x? \"))\n",
        "        except ValueError:\n",
        "            print(\"x is not an integer\")\n",
        "        else:\n",
        "            return x\n",
        "\n",
        "\n",
        "main()"
      ],
      "metadata": {
        "colab": {
          "base_uri": "https://localhost:8080/"
        },
        "id": "J8e690Oz2G9-",
        "outputId": "8a020cac-8bac-4c19-abab-ade9fa6604fa"
      },
      "execution_count": 7,
      "outputs": [
        {
          "output_type": "stream",
          "name": "stdout",
          "text": [
            "What's x? Hello\n",
            "x is not an integer\n",
            "What's x? Hi\n",
            "x is not an integer\n",
            "What's x? Hi\n",
            "x is not an integer\n",
            "What's x? 50\n",
            "x is 50\n"
          ]
        }
      ]
    },
    {
      "cell_type": "code",
      "source": [
        "# Removes else\n",
        "\n",
        "\n",
        "def main():\n",
        "    x = get_int()\n",
        "    print(f\"x is {x}\")\n",
        "\n",
        "\n",
        "def get_int():\n",
        "    while True:\n",
        "        try:\n",
        "            return int(input(\"What's x? \"))\n",
        "        except ValueError:\n",
        "            print(\"x is not an integer\")\n",
        "\n",
        "\n",
        "main()"
      ],
      "metadata": {
        "colab": {
          "base_uri": "https://localhost:8080/"
        },
        "id": "I8n7WzSb2G7P",
        "outputId": "934407ba-1d32-492a-f336-170c55e06b80"
      },
      "execution_count": 8,
      "outputs": [
        {
          "output_type": "stream",
          "name": "stdout",
          "text": [
            "What's x? Hello\n",
            "x is not an integer\n",
            "What's x? Hi\n",
            "x is not an integer\n",
            "What's x? 50\n",
            "x is 50\n"
          ]
        }
      ]
    },
    {
      "cell_type": "code",
      "source": [
        "# Adds pass\n",
        "\n",
        "\n",
        "def main():\n",
        "    x = get_int()\n",
        "    print(f\"x is {x}\")\n",
        "\n",
        "\n",
        "def get_int():\n",
        "    while True:\n",
        "        try:\n",
        "            return int(input(\"What's x? \"))\n",
        "        except ValueError:\n",
        "            pass\n",
        "\n",
        "\n",
        "main()"
      ],
      "metadata": {
        "colab": {
          "base_uri": "https://localhost:8080/"
        },
        "id": "OOtTKIO22G4e",
        "outputId": "07d4067f-2244-4385-df1b-35e8d24222d9"
      },
      "execution_count": 9,
      "outputs": [
        {
          "output_type": "stream",
          "name": "stdout",
          "text": [
            "What's x? Hello\n",
            "What's x? Hi\n",
            "What's x? H8\n",
            "What's x? 50\n",
            "x is 50\n"
          ]
        }
      ]
    },
    {
      "cell_type": "code",
      "source": [
        "# Adds prompt\n",
        "\n",
        "\n",
        "def main():\n",
        "    x = get_int(\"What's x? \")\n",
        "    print(f\"x is {x}\")\n",
        "\n",
        "\n",
        "def get_int(prompt):\n",
        "    while True:\n",
        "        try:\n",
        "            return int(input(prompt))\n",
        "        except ValueError:\n",
        "            pass\n",
        "\n",
        "\n",
        "main()"
      ],
      "metadata": {
        "colab": {
          "base_uri": "https://localhost:8080/"
        },
        "id": "K1X-eeKD2G1e",
        "outputId": "a3dfa6e6-1f86-481f-c282-1de60caab434"
      },
      "execution_count": 10,
      "outputs": [
        {
          "output_type": "stream",
          "name": "stdout",
          "text": [
            "What's x? Hello\n",
            "What's x? Hi\n",
            "What's x? 50\n",
            "x is 50\n"
          ]
        }
      ]
    }
  ]
}