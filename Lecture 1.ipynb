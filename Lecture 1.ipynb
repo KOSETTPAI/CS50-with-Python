{
  "nbformat": 4,
  "nbformat_minor": 0,
  "metadata": {
    "colab": {
      "provenance": [],
      "authorship_tag": "ABX9TyMlw+JE5sI9oMr5gyPaH+0k",
      "include_colab_link": true
    },
    "kernelspec": {
      "name": "python3",
      "display_name": "Python 3"
    },
    "language_info": {
      "name": "python"
    }
  },
  "cells": [
    {
      "cell_type": "markdown",
      "metadata": {
        "id": "view-in-github",
        "colab_type": "text"
      },
      "source": [
        "<a href=\"https://colab.research.google.com/github/KOSETTPAI/CS50-with-Python/blob/main/Lecture%201.ipynb\" target=\"_parent\"><img src=\"https://colab.research.google.com/assets/colab-badge.svg\" alt=\"Open In Colab\"/></a>"
      ]
    },
    {
      "cell_type": "markdown",
      "source": [
        "# **Compare**"
      ],
      "metadata": {
        "id": "52kK7eKlXxEK"
      }
    },
    {
      "cell_type": "code",
      "execution_count": 1,
      "metadata": {
        "colab": {
          "base_uri": "https://localhost:8080/"
        },
        "id": "YUoJL29Qr35-",
        "outputId": "bb7b3abe-708a-441e-edf5-67c8e9f26495"
      },
      "outputs": [
        {
          "output_type": "stream",
          "name": "stdout",
          "text": [
            "What's x? 7\n",
            "What's y? 8\n",
            "x is less than y\n"
          ]
        }
      ],
      "source": [
        "# Demonstrates conditionals\n",
        "\n",
        "x = int(input(\"What's x? \"))\n",
        "y = int(input(\"What's y? \"))\n",
        "\n",
        "if x < y:\n",
        "    print(\"x is less than y\")\n",
        "if x > y:\n",
        "    print(\"x is greater than y\")\n",
        "if x == y:\n",
        "    print(\"x is equal to y\")"
      ]
    },
    {
      "cell_type": "code",
      "source": [
        "# Demonstrates mutually exclusive conditions\n",
        "\n",
        "x = int(input(\"What's x? \"))\n",
        "y = int(input(\"What's y? \"))\n",
        "\n",
        "if x < y:\n",
        "    print(\"x is less than y\")\n",
        "elif x > y:\n",
        "    print(\"x is greater than y\")\n",
        "elif x == y:\n",
        "    print(\"x is equal to y\")"
      ],
      "metadata": {
        "colab": {
          "base_uri": "https://localhost:8080/"
        },
        "id": "AUIjEpDesPxG",
        "outputId": "6f0f4505-dbf3-4f3a-fa72-0844eafcf775"
      },
      "execution_count": 2,
      "outputs": [
        {
          "output_type": "stream",
          "name": "stdout",
          "text": [
            "What's x? 9\n",
            "What's y? 13\n",
            "x is less than y\n"
          ]
        }
      ]
    },
    {
      "cell_type": "code",
      "source": [
        "# Demonstrates fewer conditions\n",
        "\n",
        "x = int(input(\"What's x? \"))\n",
        "y = int(input(\"What's y? \"))\n",
        "\n",
        "if x < y:\n",
        "    print(\"x is less than y\")\n",
        "elif x > y:\n",
        "    print(\"x is greater than y\")\n",
        "else:\n",
        "    print(\"x is equal to y\")"
      ],
      "metadata": {
        "colab": {
          "base_uri": "https://localhost:8080/"
        },
        "id": "3wc2u5pIsPuI",
        "outputId": "7742c548-d12d-4c9b-e3f1-39e66e5413e3"
      },
      "execution_count": 3,
      "outputs": [
        {
          "output_type": "stream",
          "name": "stdout",
          "text": [
            "What's x? 9\n",
            "What's y? 1\n",
            "x is greater than y\n"
          ]
        }
      ]
    },
    {
      "cell_type": "code",
      "source": [
        "# Demonstrates inequalities and logical operator\n",
        "\n",
        "x = int(input(\"What's x? \"))\n",
        "y = int(input(\"What's y? \"))\n",
        "\n",
        "if x < y or x > y:\n",
        "    print(\"x is not equal to y\")\n",
        "else:\n",
        "    print(\"x is equal to y\")"
      ],
      "metadata": {
        "colab": {
          "base_uri": "https://localhost:8080/"
        },
        "id": "Y58ZJgkEsPq_",
        "outputId": "f60f9299-1c51-4355-92a9-ca15d4004f80"
      },
      "execution_count": 4,
      "outputs": [
        {
          "output_type": "stream",
          "name": "stdout",
          "text": [
            "What's x? 4\n",
            "What's y? 5\n",
            "x is not equal to y\n"
          ]
        }
      ]
    },
    {
      "cell_type": "code",
      "source": [
        "# Demonstrates equality\n",
        "\n",
        "x = int(input(\"What's x? \"))\n",
        "y = int(input(\"What's y? \"))\n",
        "\n",
        "if x == y:\n",
        "    print(\"x is equal to y\")\n",
        "else:\n",
        "    print(\"x is not equal to y\")"
      ],
      "metadata": {
        "colab": {
          "base_uri": "https://localhost:8080/"
        },
        "id": "Hl7nKvbTsPm-",
        "outputId": "e4536145-a4b5-4d17-aa5a-1734b51b9c4a"
      },
      "execution_count": 5,
      "outputs": [
        {
          "output_type": "stream",
          "name": "stdout",
          "text": [
            "What's x? 4\n",
            "What's y? 4\n",
            "x is equal to y\n"
          ]
        }
      ]
    },
    {
      "cell_type": "code",
      "source": [
        "# Demonstrates inequality\n",
        "\n",
        "x = int(input(\"What's x? \"))\n",
        "y = int(input(\"What's y? \"))\n",
        "\n",
        "if x != y:\n",
        "    print(\"x is not equal to y\")\n",
        "else:\n",
        "    print(\"x is equal to y\")"
      ],
      "metadata": {
        "colab": {
          "base_uri": "https://localhost:8080/"
        },
        "id": "4OcuuSthsPi2",
        "outputId": "ee7b580a-3275-43c1-edcd-f49d7b43bca9"
      },
      "execution_count": 6,
      "outputs": [
        {
          "output_type": "stream",
          "name": "stdout",
          "text": [
            "What's x? 5\n",
            "What's y? 5\n",
            "x is equal to y\n"
          ]
        }
      ]
    },
    {
      "cell_type": "markdown",
      "source": [
        "# **Grade** #"
      ],
      "metadata": {
        "id": "lypPdD0iX0oZ"
      }
    },
    {
      "cell_type": "code",
      "source": [
        "# Demonstrates inequalities and logical operators\n",
        "\n",
        "score = int(input(\"Score: \"))\n",
        "\n",
        "if score >= 90 and score <= 100:\n",
        "    print(\"Grade: A\")\n",
        "elif score >= 80 and score < 90:\n",
        "    print(\"Grade: B\")\n",
        "elif score >= 70 and score < 80:\n",
        "    print(\"Grade: C\")\n",
        "elif score >= 60 and score < 70:\n",
        "    print(\"Grade: D\")\n",
        "else:\n",
        "    print(\"Grade: F\")"
      ],
      "metadata": {
        "id": "_X7IvuWQsPen",
        "colab": {
          "base_uri": "https://localhost:8080/"
        },
        "outputId": "a3752a6b-e5ac-4b06-fa25-27e3eca1f24b"
      },
      "execution_count": 7,
      "outputs": [
        {
          "output_type": "stream",
          "name": "stdout",
          "text": [
            "Score: 98\n",
            "Grade: A\n"
          ]
        }
      ]
    },
    {
      "cell_type": "code",
      "source": [
        "# Demonstrates inequalities and logical operators\n",
        "\n",
        "score = int(input(\"Score: \"))\n",
        "\n",
        "if 90 <= score and score <= 100:\n",
        "    print(\"Grade: A\")\n",
        "elif 80 <= score and score < 90:\n",
        "    print(\"Grade: B\")\n",
        "elif 70 <= score and score < 80:\n",
        "    print(\"Grade: C\")\n",
        "elif 60 <= score and score < 70:\n",
        "    print(\"Grade: D\")\n",
        "else:\n",
        "    print(\"Grade: F\")"
      ],
      "metadata": {
        "id": "KGjb69ZusPaW",
        "colab": {
          "base_uri": "https://localhost:8080/"
        },
        "outputId": "cf7e67c5-05ab-4429-86b2-a43c8f54073f"
      },
      "execution_count": 9,
      "outputs": [
        {
          "output_type": "stream",
          "name": "stdout",
          "text": [
            "Score: 85\n",
            "Grade: B\n"
          ]
        }
      ]
    },
    {
      "cell_type": "code",
      "source": [
        "# Demonstrates chained comparisons\n",
        "\n",
        "score = int(input(\"Score: \"))\n",
        "\n",
        "if 90 <= score <= 100:\n",
        "    print(\"Grade: A\")\n",
        "elif 80 <= score < 90:\n",
        "    print(\"Grade: B\")\n",
        "elif 70 <= score < 80:\n",
        "    print(\"Grade: C\")\n",
        "elif 60 <= score < 70:\n",
        "    print(\"Grade: D\")\n",
        "else:\n",
        "    print(\"Grade: F\")"
      ],
      "metadata": {
        "id": "5GsBTlIysPV3",
        "colab": {
          "base_uri": "https://localhost:8080/"
        },
        "outputId": "4086aaf9-afd3-47ea-f8ca-725d3ff4f7f4"
      },
      "execution_count": 10,
      "outputs": [
        {
          "output_type": "stream",
          "name": "stdout",
          "text": [
            "Score: 89\n",
            "Grade: B\n"
          ]
        }
      ]
    },
    {
      "cell_type": "code",
      "source": [
        "# Demonstrates fewer comparisons\n",
        "# We might us above 80 can be above 90 --> but we have already checked with if score >= 90\n",
        "\n",
        "score = int(input(\"Score: \"))\n",
        "\n",
        "if score >= 90:\n",
        "    print(\"Grade: A\")\n",
        "elif score >= 80:\n",
        "    print(\"Grade: B\")\n",
        "elif score >= 70:\n",
        "    print(\"Grade: C\")\n",
        "elif score >= 60:\n",
        "    print(\"Grade: D\")\n",
        "else:\n",
        "    print(\"Grade: F\")"
      ],
      "metadata": {
        "id": "qI21ymR2sPRO",
        "colab": {
          "base_uri": "https://localhost:8080/"
        },
        "outputId": "7f0cb2bd-d0cf-439c-db6f-babbc77f4c42"
      },
      "execution_count": 12,
      "outputs": [
        {
          "output_type": "stream",
          "name": "stdout",
          "text": [
            "Score: 88\n",
            "Grade: B\n"
          ]
        }
      ]
    },
    {
      "cell_type": "markdown",
      "source": [
        "# **Parity**"
      ],
      "metadata": {
        "id": "5WVzQ-fPd84H"
      }
    },
    {
      "cell_type": "code",
      "source": [
        "# Demonstrates modulo operator\n",
        "\n",
        "x = int(input(\"What's x? \"))\n",
        "\n",
        "if x % 2 == 0:\n",
        "    print(\"Even\")\n",
        "else:\n",
        "    print(\"Odd\")"
      ],
      "metadata": {
        "id": "oHgJxSvEsPMm",
        "colab": {
          "base_uri": "https://localhost:8080/"
        },
        "outputId": "9c4677b4-5bbd-4765-fd9f-7ad60f8cdd55"
      },
      "execution_count": 13,
      "outputs": [
        {
          "output_type": "stream",
          "name": "stdout",
          "text": [
            "What's x? 6\n",
            "Even\n"
          ]
        }
      ]
    },
    {
      "cell_type": "code",
      "source": [
        "# Demonstrates a function that returns a bool\n",
        "\n",
        "\n",
        "def main():\n",
        "    x = int(input(\"What's x? \"))\n",
        "    if is_even(x):\n",
        "        print(\"Even\")\n",
        "    else:\n",
        "        print(\"Odd\")\n",
        "\n",
        "\n",
        "def is_even(n):\n",
        "    if n % 2 == 0:\n",
        "        return True\n",
        "    else:\n",
        "        return False\n",
        "\n",
        "\n",
        "main()"
      ],
      "metadata": {
        "id": "qRe64yjDsPI3",
        "colab": {
          "base_uri": "https://localhost:8080/"
        },
        "outputId": "e87851f6-962d-4b72-8603-14f5d7ac863d"
      },
      "execution_count": 14,
      "outputs": [
        {
          "output_type": "stream",
          "name": "stdout",
          "text": [
            "What's x? 9\n",
            "Odd\n"
          ]
        }
      ]
    },
    {
      "cell_type": "code",
      "source": [
        "# Demonstrates conditional expressions (ternary operators)\n",
        "\n",
        "\n",
        "def main():\n",
        "    x = int(input(\"What's x? \"))\n",
        "    if is_even(x):\n",
        "        print(\"Even\")\n",
        "    else:\n",
        "        print(\"Odd\")\n",
        "\n",
        "\n",
        "def is_even(n):\n",
        "    return True if n % 2 == 0 else False\n",
        "\n",
        "\n",
        "main()"
      ],
      "metadata": {
        "id": "Gsp_ZHb7sPEe",
        "colab": {
          "base_uri": "https://localhost:8080/"
        },
        "outputId": "beafc1d7-4038-46b8-b8f3-9eb2b559a296"
      },
      "execution_count": 15,
      "outputs": [
        {
          "output_type": "stream",
          "name": "stdout",
          "text": [
            "What's x? 8\n",
            "Even\n"
          ]
        }
      ]
    },
    {
      "cell_type": "code",
      "source": [
        "# Demonstrates returning the value of a Boolean expression\n",
        "\n",
        "\n",
        "def main():\n",
        "    x = int(input(\"What's x? \"))\n",
        "    if is_even(x):\n",
        "        print(\"Even\")\n",
        "    else:\n",
        "        print(\"Odd\")\n",
        "\n",
        "\n",
        "def is_even(n):\n",
        "    return n % 2 == 0\n",
        "\n",
        "\n",
        "main()"
      ],
      "metadata": {
        "id": "_UCGEASAsPAG",
        "colab": {
          "base_uri": "https://localhost:8080/"
        },
        "outputId": "9325bc3d-1a07-4414-8dd2-37d9674fd1fd"
      },
      "execution_count": 16,
      "outputs": [
        {
          "output_type": "stream",
          "name": "stdout",
          "text": [
            "What's x? 9\n",
            "Odd\n"
          ]
        }
      ]
    },
    {
      "cell_type": "markdown",
      "source": [
        "# **House**"
      ],
      "metadata": {
        "id": "U5TiHfhTgxZP"
      }
    },
    {
      "cell_type": "code",
      "source": [
        "# Compares multiple strings with if/elif/else\n",
        "\n",
        "name = input(\"What's your name? \")\n",
        "\n",
        "if name == \"Harry\":\n",
        "    print(\"Gryffindor\")\n",
        "elif name == \"Hermione\":\n",
        "    print(\"Gryffindor\")\n",
        "elif name == \"Ron\":\n",
        "    print(\"Gryffindor\")\n",
        "elif name == \"Draco\":\n",
        "    print(\"Slytherin\")\n",
        "else:\n",
        "    print(\"Who?\")"
      ],
      "metadata": {
        "id": "-wH7hsT4sO7v",
        "colab": {
          "base_uri": "https://localhost:8080/"
        },
        "outputId": "62bfe95d-a7e5-4311-e85f-2813d07a01be"
      },
      "execution_count": 17,
      "outputs": [
        {
          "output_type": "stream",
          "name": "stdout",
          "text": [
            "What's your name? Harry\n",
            "Gryffindor\n"
          ]
        }
      ]
    },
    {
      "cell_type": "code",
      "source": [
        "# Uses or\n",
        "\n",
        "name = input(\"What's your name? \")\n",
        "\n",
        "if name == \"Harry\" or name == \"Hermione\" or name == \"Ron\":\n",
        "    print(\"Gryffindor\")\n",
        "elif name == \"Draco\":\n",
        "    print(\"Slytherin\")\n",
        "else:\n",
        "    print(\"Who?\")"
      ],
      "metadata": {
        "id": "hZB4tPaCsO3m",
        "colab": {
          "base_uri": "https://localhost:8080/"
        },
        "outputId": "b5298744-db02-4b2d-e10e-7a89289bb4c5"
      },
      "execution_count": 19,
      "outputs": [
        {
          "output_type": "stream",
          "name": "stdout",
          "text": [
            "What's your name? Ko Sett\n",
            "Who?\n"
          ]
        }
      ]
    },
    {
      "cell_type": "code",
      "source": [
        "# Uses match with case\n",
        "\n",
        "name = input(\"What's your name? \")\n",
        "\n",
        "match name:\n",
        "    case \"Harry\":\n",
        "        print(\"Gryffindor\")\n",
        "    case \"Hermione\":\n",
        "        print(\"Gryffindor\")\n",
        "    case \"Ron\":\n",
        "        print(\"Gryffindor\")\n",
        "    case \"Draco\":\n",
        "        print(\"Slytherin\")\n",
        "    case _:\n",
        "        print(\"Who?\")"
      ],
      "metadata": {
        "id": "dRBQ4iSKsOzf",
        "colab": {
          "base_uri": "https://localhost:8080/"
        },
        "outputId": "47e41ff3-0e67-4de4-9b8f-5e2aa20841bc"
      },
      "execution_count": 18,
      "outputs": [
        {
          "output_type": "stream",
          "name": "stdout",
          "text": [
            "What's your name? Harry\n",
            "Gryffindor\n"
          ]
        }
      ]
    },
    {
      "cell_type": "code",
      "source": [
        "# Uses |\n",
        "\n",
        "name = input(\"What's your name? \")\n",
        "\n",
        "match name:\n",
        "    case \"Harry\" | \"Hermione\" | \"Ron\":\n",
        "        print(\"Gryffindor\")\n",
        "    case \"Draco\":\n",
        "        print(\"Slytherin\")\n",
        "    case _:\n",
        "        print(\"Who?\")"
      ],
      "metadata": {
        "id": "jZMpdH2dsOvW",
        "colab": {
          "base_uri": "https://localhost:8080/"
        },
        "outputId": "ba0cb537-fa73-417b-d434-48c53b77aa36"
      },
      "execution_count": 20,
      "outputs": [
        {
          "output_type": "stream",
          "name": "stdout",
          "text": [
            "What's your name? Ron\n",
            "Gryffindor\n"
          ]
        }
      ]
    },
    {
      "cell_type": "markdown",
      "source": [
        "# **Agree**"
      ],
      "metadata": {
        "id": "BDaW1AjRh3T3"
      }
    },
    {
      "cell_type": "code",
      "source": [
        "# Compares strings\n",
        "\n",
        "answer = input(\"Do you agree? \")\n",
        "if answer == \"yes\":\n",
        "    print(\"Agreed\")\n",
        "else:\n",
        "    print(\"Not agreed\")"
      ],
      "metadata": {
        "id": "ktnpq8DssOrm",
        "colab": {
          "base_uri": "https://localhost:8080/"
        },
        "outputId": "7ae147a2-8a28-487e-b4d2-28314f881ad1"
      },
      "execution_count": 23,
      "outputs": [
        {
          "output_type": "stream",
          "name": "stdout",
          "text": [
            "Do you agree?   yes\n",
            "Not agreed\n"
          ]
        }
      ]
    },
    {
      "cell_type": "code",
      "source": [
        "# Strips string before comparing\n",
        "\n",
        "answer = input(\"Do you agree? \").strip()\n",
        "if answer == \"yes\":\n",
        "    print(\"Agreed\")\n",
        "else:\n",
        "    print(\"Not agreed\")"
      ],
      "metadata": {
        "id": "osX0a81ZsOnm",
        "colab": {
          "base_uri": "https://localhost:8080/"
        },
        "outputId": "421fe4bb-fcab-42db-ac01-e7d4148fce31"
      },
      "execution_count": 22,
      "outputs": [
        {
          "output_type": "stream",
          "name": "stdout",
          "text": [
            "Do you agree?    yes  \n",
            "Agreed\n"
          ]
        }
      ]
    },
    {
      "cell_type": "code",
      "source": [
        "# Lowercases string before comparing\n",
        "\n",
        "answer = input(\"Do you agree? \").strip().lower()\n",
        "if answer == \"yes\":\n",
        "    print(\"Agreed\")\n",
        "else:\n",
        "    print(\"Not agreed\")"
      ],
      "metadata": {
        "id": "VnlZ4MHMsOjP",
        "colab": {
          "base_uri": "https://localhost:8080/"
        },
        "outputId": "6d538563-bc12-4002-f150-f8fe10f1fd11"
      },
      "execution_count": 24,
      "outputs": [
        {
          "output_type": "stream",
          "name": "stdout",
          "text": [
            "Do you agree? Yes\n",
            "Agreed\n"
          ]
        }
      ]
    },
    {
      "cell_type": "code",
      "source": [
        "# Compares multiple strings\n",
        "\n",
        "answer = input(\"Do you agree? \").strip().lower()\n",
        "if answer == \"yes\" or answer == \"y\":\n",
        "    print(\"Agreed\")\n",
        "else:\n",
        "    print(\"Not agreed\")"
      ],
      "metadata": {
        "id": "BlsgHJB9sOfG",
        "colab": {
          "base_uri": "https://localhost:8080/"
        },
        "outputId": "9836e7ca-eb1c-4590-b01b-17bee0bf38c2"
      },
      "execution_count": 25,
      "outputs": [
        {
          "output_type": "stream",
          "name": "stdout",
          "text": [
            "Do you agree? y\n",
            "Agreed\n"
          ]
        }
      ]
    },
    {
      "cell_type": "code",
      "source": [
        "# Compares multiple strings\n",
        "\n",
        "answer = input(\"Do you agree? \").strip().lower()\n",
        "if answer.startswith(\"y\"):\n",
        "    print(\"Agreed\")\n",
        "else:\n",
        "    print(\"Not agreed\")"
      ],
      "metadata": {
        "id": "akHzejB5sOb3",
        "colab": {
          "base_uri": "https://localhost:8080/"
        },
        "outputId": "164d04e3-bce8-4692-8227-be2074cc0f82"
      },
      "execution_count": 26,
      "outputs": [
        {
          "output_type": "stream",
          "name": "stdout",
          "text": [
            "Do you agree? yeah\n",
            "Agreed\n"
          ]
        }
      ]
    }
  ]
}